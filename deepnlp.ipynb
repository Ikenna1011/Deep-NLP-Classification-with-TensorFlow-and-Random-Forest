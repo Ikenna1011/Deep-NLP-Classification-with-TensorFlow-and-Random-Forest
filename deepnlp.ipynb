{
 "cells": [
  {
   "cell_type": "markdown",
   "id": "29904f7e",
   "metadata": {},
   "source": [
    "### Deep NLP with Combined Tensorflow RandomForest Classifier"
   ]
  },
  {
   "cell_type": "markdown",
   "id": "35bba98a",
   "metadata": {},
   "source": [
    "### Problem Statement"
   ]
  },
  {
   "cell_type": "markdown",
   "id": "805c7a70",
   "metadata": {},
   "source": [
    "This NLP task aims to analyze two datasets involving bot and human interactions. The goal is to categorize these datasets based on the bot's recommendations.\n",
    "\n",
    "#### What Does the Deep Learning NLP Dataset Contain?\n",
    "\n",
    "- **Sheet1.csv**: Contains 80 user responses to a therapeutic chatbot in the `response_text` column. For example, the bot might ask: *\"Describe a time when you acted as a resource for someone else?\"* A user provides a response. If the response is classified as \"not flagged,\" the user can continue interacting with the bot. However, if it is classified as \"flagged,\" the bot redirects the user to seek further assistance.\n",
    "\n",
    "- **Sheet2.csv**: Contains 125 resumes in the `resume_text` column. These resumes were sourced from Indeed.com using the search terms \"data scientist\" and \"Vermont.\" If a resume is classified as \"not flagged,\" the applicant can submit a revised version later. If it is classified as \"flagged,\" the applicant is invited for an interview.\n",
    "\n",
    "#### Why is it Worth Solving?\n",
    "\n",
    "The objective is to determine whether new resumes or responses would be classified as \"flagged\" or \"not flagged.\" This classification task is crucial for automating decision-making processes in both therapeutic and recruitment contexts.\n",
    "\n",
    "#### Approach\n",
    "\n",
    "The problem involves two types of data: resumes and responses. To evaluate the accuracy of the classifier, the data will be split into training and testing sets. The same classifier will be applied to solve both tasks, ensuring consistency and comparability across datasets."
   ]
  },
  {
   "cell_type": "code",
   "execution_count": 1,
   "id": "2d673575",
   "metadata": {
    "_cell_guid": "b1076dfc-b9ad-4769-8c92-a6c4dae69d19",
    "_uuid": "8f2839f25d086af736a60e9eeb907d3b93b6e0e5",
    "execution": {
     "iopub.execute_input": "2021-10-02T20:43:19.631335Z",
     "iopub.status.busy": "2021-10-02T20:43:19.630625Z",
     "iopub.status.idle": "2021-10-02T20:43:21.748680Z",
     "shell.execute_reply": "2021-10-02T20:43:21.748029Z",
     "shell.execute_reply.started": "2021-10-02T20:02:30.767678Z"
    },
    "papermill": {
     "duration": 2.160808,
     "end_time": "2021-10-02T20:43:21.748844",
     "exception": false,
     "start_time": "2021-10-02T20:43:19.588036",
     "status": "completed"
    },
    "tags": []
   },
   "outputs": [
    {
     "data": {
      "text/html": [
       "        <script type=\"text/javascript\">\n",
       "        window.PlotlyConfig = {MathJaxConfig: 'local'};\n",
       "        if (window.MathJax) {MathJax.Hub.Config({SVG: {font: \"STIX-Web\"}});}\n",
       "        if (typeof require !== 'undefined') {\n",
       "        require.undef(\"plotly\");\n",
       "        requirejs.config({\n",
       "            paths: {\n",
       "                'plotly': ['https://cdn.plot.ly/plotly-2.6.3.min']\n",
       "            }\n",
       "        });\n",
       "        require(['plotly'], function(Plotly) {\n",
       "            window._Plotly = Plotly;\n",
       "        });\n",
       "        }\n",
       "        </script>\n",
       "        "
      ]
     },
     "metadata": {},
     "output_type": "display_data"
    }
   ],
   "source": [
    "#To begin, get the Python analytics libraries needed to process NLP using deep learning algorithms.\n",
    "\n",
    "import numpy as np \n",
    "import pandas as pd \n",
    "\n",
    "import re\n",
    "import string\n",
    "import nltk\n",
    "from nltk.corpus import stopwords\n",
    "stop = set(stopwords.words('english'))\n",
    "from wordcloud import WordCloud, STOPWORDS\n",
    "import matplotlib as plty\n",
    "import matplotlib.pyplot as plt\n",
    "import seaborn as sns\n",
    "%matplotlib inline\n",
    "import sklearn\n",
    "\n",
    "\n",
    "import numpy as np\n",
    "import pandas as pd\n",
    "import seaborn as sns\n",
    "import matplotlib.pyplot as plt\n",
    "from subprocess import check_output\n",
    "\n",
    "%matplotlib inline\n",
    "import plotly.offline as py\n",
    "py.init_notebook_mode(connected=True)\n",
    "import plotly.graph_objs as go\n",
    "import plotly.tools as tls\n",
    "\n",
    "import plotly.graph_objs as go\n",
    "from sklearn import preprocessing\n",
    "Encode = preprocessing.LabelEncoder()\n",
    "from sklearn.feature_extraction.text import CountVectorizer\n",
    "from sklearn.feature_extraction.text import TfidfVectorizer\n",
    "tfid = TfidfVectorizer()\n",
    "vect = CountVectorizer()\n",
    "from sklearn.model_selection import train_test_split\n",
    "from sklearn.naive_bayes import MultinomialNB\n",
    "from sklearn.manifold import TSNE\n",
    "NB = MultinomialNB()\n",
    "\n",
    "import nltk\n",
    "from nltk.corpus import stopwords\n",
    "stopwords = stopwords.words(\"english\")\n",
    "from sklearn import metrics\n",
    "from sklearn.svm import SVC\n",
    "from sklearn.ensemble import RandomForestClassifier"
   ]
  },
  {
   "cell_type": "code",
   "execution_count": 2,
   "id": "fa4fabb6",
   "metadata": {
    "execution": {
     "iopub.execute_input": "2021-10-02T20:43:21.789857Z",
     "iopub.status.busy": "2021-10-02T20:43:21.789193Z",
     "iopub.status.idle": "2021-10-02T20:43:21.841446Z",
     "shell.execute_reply": "2021-10-02T20:43:21.840879Z",
     "shell.execute_reply.started": "2021-10-02T20:02:37.670012Z"
    },
    "papermill": {
     "duration": 0.076036,
     "end_time": "2021-10-02T20:43:21.841601",
     "exception": false,
     "start_time": "2021-10-02T20:43:21.765565",
     "status": "completed"
    },
    "tags": []
   },
   "outputs": [],
   "source": [
    "#Read in the datasets.\n",
    "my_file_1=\"Sheet_1.csv\"\n",
    "my_file_2=\"Sheet_2.csv\"\n",
    "\n",
    "bot = pd.read_csv(my_file_1,usecols=['response_id','class','response_text'],encoding='latin-1')\n",
    "resume = pd.read_csv(my_file_2,encoding='latin-1')"
   ]
  },
  {
   "cell_type": "code",
   "execution_count": 3,
   "id": "e06e60d8",
   "metadata": {
    "execution": {
     "iopub.execute_input": "2021-10-02T20:43:21.883819Z",
     "iopub.status.busy": "2021-10-02T20:43:21.883103Z",
     "iopub.status.idle": "2021-10-02T20:43:21.895747Z",
     "shell.execute_reply": "2021-10-02T20:43:21.896243Z",
     "shell.execute_reply.started": "2021-10-02T19:37:46.271148Z"
    },
    "papermill": {
     "duration": 0.038448,
     "end_time": "2021-10-02T20:43:21.896408",
     "exception": false,
     "start_time": "2021-10-02T20:43:21.857960",
     "status": "completed"
    },
    "tags": []
   },
   "outputs": [
    {
     "data": {
      "text/html": [
       "<div>\n",
       "<style scoped>\n",
       "    .dataframe tbody tr th:only-of-type {\n",
       "        vertical-align: middle;\n",
       "    }\n",
       "\n",
       "    .dataframe tbody tr th {\n",
       "        vertical-align: top;\n",
       "    }\n",
       "\n",
       "    .dataframe thead th {\n",
       "        text-align: right;\n",
       "    }\n",
       "</style>\n",
       "<table border=\"1\" class=\"dataframe\">\n",
       "  <thead>\n",
       "    <tr style=\"text-align: right;\">\n",
       "      <th></th>\n",
       "      <th>response_id</th>\n",
       "      <th>class</th>\n",
       "      <th>response_text</th>\n",
       "    </tr>\n",
       "  </thead>\n",
       "  <tbody>\n",
       "    <tr>\n",
       "      <th>0</th>\n",
       "      <td>response_1</td>\n",
       "      <td>not_flagged</td>\n",
       "      <td>I try and avoid this sort of conflict</td>\n",
       "    </tr>\n",
       "    <tr>\n",
       "      <th>1</th>\n",
       "      <td>response_2</td>\n",
       "      <td>flagged</td>\n",
       "      <td>Had a friend open up to me about his mental ad...</td>\n",
       "    </tr>\n",
       "    <tr>\n",
       "      <th>2</th>\n",
       "      <td>response_3</td>\n",
       "      <td>flagged</td>\n",
       "      <td>I saved a girl from suicide once. She was goin...</td>\n",
       "    </tr>\n",
       "    <tr>\n",
       "      <th>3</th>\n",
       "      <td>response_4</td>\n",
       "      <td>not_flagged</td>\n",
       "      <td>i cant think of one really...i think i may hav...</td>\n",
       "    </tr>\n",
       "    <tr>\n",
       "      <th>4</th>\n",
       "      <td>response_5</td>\n",
       "      <td>not_flagged</td>\n",
       "      <td>Only really one friend who doesn't fit into th...</td>\n",
       "    </tr>\n",
       "  </tbody>\n",
       "</table>\n",
       "</div>"
      ],
      "text/plain": [
       "  response_id        class                                      response_text\n",
       "0  response_1  not_flagged              I try and avoid this sort of conflict\n",
       "1  response_2      flagged  Had a friend open up to me about his mental ad...\n",
       "2  response_3      flagged  I saved a girl from suicide once. She was goin...\n",
       "3  response_4  not_flagged  i cant think of one really...i think i may hav...\n",
       "4  response_5  not_flagged  Only really one friend who doesn't fit into th..."
      ]
     },
     "execution_count": 3,
     "metadata": {},
     "output_type": "execute_result"
    }
   ],
   "source": [
    "#Gret the first five rows of the Sheet_1 data.\n",
    "bot.head()"
   ]
  },
  {
   "cell_type": "code",
   "execution_count": 4,
   "id": "39901a0a",
   "metadata": {
    "execution": {
     "iopub.execute_input": "2021-10-02T20:43:21.940664Z",
     "iopub.status.busy": "2021-10-02T20:43:21.933056Z",
     "iopub.status.idle": "2021-10-02T20:43:21.944380Z",
     "shell.execute_reply": "2021-10-02T20:43:21.943867Z",
     "shell.execute_reply.started": "2021-10-02T19:37:57.439520Z"
    },
    "papermill": {
     "duration": 0.031108,
     "end_time": "2021-10-02T20:43:21.944516",
     "exception": false,
     "start_time": "2021-10-02T20:43:21.913408",
     "status": "completed"
    },
    "tags": []
   },
   "outputs": [
    {
     "data": {
      "text/html": [
       "<div>\n",
       "<style scoped>\n",
       "    .dataframe tbody tr th:only-of-type {\n",
       "        vertical-align: middle;\n",
       "    }\n",
       "\n",
       "    .dataframe tbody tr th {\n",
       "        vertical-align: top;\n",
       "    }\n",
       "\n",
       "    .dataframe thead th {\n",
       "        text-align: right;\n",
       "    }\n",
       "</style>\n",
       "<table border=\"1\" class=\"dataframe\">\n",
       "  <thead>\n",
       "    <tr style=\"text-align: right;\">\n",
       "      <th></th>\n",
       "      <th>resume_id</th>\n",
       "      <th>class</th>\n",
       "      <th>resume_text</th>\n",
       "    </tr>\n",
       "  </thead>\n",
       "  <tbody>\n",
       "    <tr>\n",
       "      <th>0</th>\n",
       "      <td>resume_1</td>\n",
       "      <td>not_flagged</td>\n",
       "      <td>\\rCustomer Service Supervisor/Tier - Isabella ...</td>\n",
       "    </tr>\n",
       "    <tr>\n",
       "      <th>1</th>\n",
       "      <td>resume_2</td>\n",
       "      <td>not_flagged</td>\n",
       "      <td>\\rEngineer / Scientist - IBM Microelectronics ...</td>\n",
       "    </tr>\n",
       "    <tr>\n",
       "      <th>2</th>\n",
       "      <td>resume_3</td>\n",
       "      <td>not_flagged</td>\n",
       "      <td>\\rLTS Software Engineer Computational Lithogra...</td>\n",
       "    </tr>\n",
       "    <tr>\n",
       "      <th>3</th>\n",
       "      <td>resume_4</td>\n",
       "      <td>not_flagged</td>\n",
       "      <td>TUTOR\\rWilliston VT - Email me on Indeed: ind...</td>\n",
       "    </tr>\n",
       "    <tr>\n",
       "      <th>4</th>\n",
       "      <td>resume_5</td>\n",
       "      <td>flagged</td>\n",
       "      <td>\\rIndependent Consultant - Self-employed\\rBurl...</td>\n",
       "    </tr>\n",
       "  </tbody>\n",
       "</table>\n",
       "</div>"
      ],
      "text/plain": [
       "  resume_id        class                                        resume_text\n",
       "0  resume_1  not_flagged  \\rCustomer Service Supervisor/Tier - Isabella ...\n",
       "1  resume_2  not_flagged  \\rEngineer / Scientist - IBM Microelectronics ...\n",
       "2  resume_3  not_flagged  \\rLTS Software Engineer Computational Lithogra...\n",
       "3  resume_4  not_flagged   TUTOR\\rWilliston VT - Email me on Indeed: ind...\n",
       "4  resume_5      flagged  \\rIndependent Consultant - Self-employed\\rBurl..."
      ]
     },
     "execution_count": 4,
     "metadata": {},
     "output_type": "execute_result"
    }
   ],
   "source": [
    "#Gret the first five rows of the Sheet_2 data.\n",
    "resume.head()"
   ]
  },
  {
   "cell_type": "code",
   "execution_count": 5,
   "id": "093b9bdc",
   "metadata": {
    "execution": {
     "iopub.execute_input": "2021-10-02T20:43:21.982842Z",
     "iopub.status.busy": "2021-10-02T20:43:21.982205Z",
     "iopub.status.idle": "2021-10-02T20:43:22.676769Z",
     "shell.execute_reply": "2021-10-02T20:43:22.676226Z",
     "shell.execute_reply.started": "2021-10-02T19:34:30.939856Z"
    },
    "papermill": {
     "duration": 0.715449,
     "end_time": "2021-10-02T20:43:22.676904",
     "exception": false,
     "start_time": "2021-10-02T20:43:21.961455",
     "status": "completed"
    },
    "tags": []
   },
   "outputs": [
    {
     "data": {
      "image/png": "[encoded data removed]",
      "text/plain": [
       "<Figure size 432x288 with 1 Axes>"
      ]
     },
     "metadata": {
      "needs_background": "light"
     },
     "output_type": "display_data"
    }
   ],
   "source": [
    "#Visualize the keywords for bot using WordCloud.\n",
    "def cloud(text):\n",
    "    wordcloud = WordCloud(background_color=\"red\",stopwords=stop).generate(\" \".join([i for i in text.str.upper()]))\n",
    "    plt.imshow(wordcloud)\n",
    "    plt.axis(\"off\")\n",
    "    plt.title(\"Bot Response\")\n",
    "cloud(bot['response_text'])"
   ]
  },
  {
   "cell_type": "code",
   "execution_count": 6,
   "id": "3f1239ee",
   "metadata": {
    "execution": {
     "iopub.execute_input": "2021-10-02T20:43:22.723098Z",
     "iopub.status.busy": "2021-10-02T20:43:22.722451Z",
     "iopub.status.idle": "2021-10-02T20:43:22.913587Z",
     "shell.execute_reply": "2021-10-02T20:43:22.913025Z",
     "shell.execute_reply.started": "2021-10-02T19:24:10.046397Z"
    },
    "papermill": {
     "duration": 0.216349,
     "end_time": "2021-10-02T20:43:22.913723",
     "exception": false,
     "start_time": "2021-10-02T20:43:22.697374",
     "status": "completed"
    },
    "tags": []
   },
   "outputs": [
    {
     "name": "stderr",
     "output_type": "stream",
     "text": [
      "[nltk_data] Downloading package vader_lexicon to\n",
      "[nltk_data]     C:\\Users\\Ikenna\\AppData\\Roaming\\nltk_data...\n",
      "[nltk_data]   Package vader_lexicon is already up-to-date!\n"
     ]
    },
    {
     "data": {
      "text/plain": [
       "True"
      ]
     },
     "execution_count": 6,
     "metadata": {},
     "output_type": "execute_result"
    }
   ],
   "source": [
    "#Import additional packages to perform sentiment analysis and analyse large chunks of text.\n",
    "# import pandas as pd\n",
    "# df = pd.read_csv(\"\")\n",
    "from nltk.sentiment.vader import SentimentIntensityAnalyzer #nltk kütüphanesinde hazır bir sentiment Intensity Analizi var\n",
    "import nltk\n",
    "import re\n",
    "from textblob import TextBlob # metnin olumlu-olumsuz durumuna göre size 0-1 aralığında bir değer dönmektedir. TextBlob ile amacımız yazının olumlu mu olumsuz mu içerik içerdiğini anlamaktır.\n",
    "nltk.downloader.download('vader_lexicon')\n"
   ]
  },
  {
   "cell_type": "markdown",
   "id": "c3d8d73e",
   "metadata": {},
   "source": [
    "### Model Building"
   ]
  },
  {
   "cell_type": "code",
   "execution_count": 7,
   "id": "f0c4c059",
   "metadata": {
    "execution": {
     "iopub.execute_input": "2021-10-02T20:43:22.964099Z",
     "iopub.status.busy": "2021-10-02T20:43:22.963381Z",
     "iopub.status.idle": "2021-10-02T20:43:22.966525Z",
     "shell.execute_reply": "2021-10-02T20:43:22.965950Z",
     "shell.execute_reply.started": "2021-10-02T20:05:11.799288Z"
    },
    "papermill": {
     "duration": 0.031569,
     "end_time": "2021-10-02T20:43:22.966674",
     "exception": false,
     "start_time": "2021-10-02T20:43:22.935105",
     "status": "completed"
    },
    "tags": []
   },
   "outputs": [],
   "source": [
    "#Encode and transform the class or target column.\n",
    "bot['label'] = Encode.fit_transform(bot['class'])"
   ]
  },
  {
   "cell_type": "code",
   "execution_count": 8,
   "id": "33a39904",
   "metadata": {
    "execution": {
     "iopub.execute_input": "2021-10-02T20:43:23.021892Z",
     "iopub.status.busy": "2021-10-02T20:43:23.021249Z",
     "iopub.status.idle": "2021-10-02T20:43:23.032989Z",
     "shell.execute_reply": "2021-10-02T20:43:23.033478Z",
     "shell.execute_reply.started": "2021-10-02T20:05:19.485908Z"
    },
    "papermill": {
     "duration": 0.045737,
     "end_time": "2021-10-02T20:43:23.033661",
     "exception": false,
     "start_time": "2021-10-02T20:43:22.987924",
     "status": "completed"
    },
    "tags": []
   },
   "outputs": [],
   "source": [
    "#Train-test-split the bot data set and get model accuracy.\n",
    "x = bot.response_text\n",
    "y = bot.label\n",
    "x_train,x_test,y_train,y_test = train_test_split(x,y,random_state=34)\n",
    "x_train_dtm = vect.fit_transform(x_train)\n",
    "x_test_dtm = vect.transform(x_test)"
   ]
  },
  {
   "cell_type": "markdown",
   "id": "fdfa8557",
   "metadata": {},
   "source": [
    "#### Random Forest"
   ]
  },
  {
   "cell_type": "code",
   "execution_count": 9,
   "id": "9e111438",
   "metadata": {
    "execution": {
     "iopub.execute_input": "2021-10-02T20:43:23.084450Z",
     "iopub.status.busy": "2021-10-02T20:43:23.081400Z",
     "iopub.status.idle": "2021-10-02T20:43:23.280254Z",
     "shell.execute_reply": "2021-10-02T20:43:23.280727Z",
     "shell.execute_reply.started": "2021-10-02T20:05:46.185695Z"
    },
    "papermill": {
     "duration": 0.224522,
     "end_time": "2021-10-02T20:43:23.280900",
     "exception": false,
     "start_time": "2021-10-02T20:43:23.056378",
     "status": "completed"
    },
    "tags": []
   },
   "outputs": [
    {
     "data": {
      "text/plain": [
       "0.75"
      ]
     },
     "execution_count": 9,
     "metadata": {},
     "output_type": "execute_result"
    }
   ],
   "source": [
    "#Random Forest regressor.\n",
    "rf = RandomForestClassifier(max_depth=10,max_features=10)\n",
    "rf.fit(x_train_dtm,y_train)\n",
    "rf_predict = rf.predict(x_test_dtm)\n",
    "metrics.accuracy_score(y_test,rf_predict)\n",
    "#Naive Bayes.\n",
    "NB.fit(x_train_dtm,y_train)\n",
    "y_predict = NB.predict(x_test_dtm)\n",
    "metrics.accuracy_score(y_test,y_predict)"
   ]
  },
  {
   "cell_type": "code",
   "execution_count": 10,
   "id": "738fc7b0",
   "metadata": {
    "execution": {
     "iopub.execute_input": "2021-10-02T20:43:23.329482Z",
     "iopub.status.busy": "2021-10-02T20:43:23.328789Z",
     "iopub.status.idle": "2021-10-02T20:43:23.331339Z",
     "shell.execute_reply": "2021-10-02T20:43:23.331809Z"
    },
    "papermill": {
     "duration": 0.029593,
     "end_time": "2021-10-02T20:43:23.331964",
     "exception": false,
     "start_time": "2021-10-02T20:43:23.302371",
     "status": "completed"
    },
    "tags": []
   },
   "outputs": [
    {
     "data": {
      "text/plain": [
       "<20x541 sparse matrix of type '<class 'numpy.int64'>'\n",
       "\twith 320 stored elements in Compressed Sparse Row format>"
      ]
     },
     "execution_count": 10,
     "metadata": {},
     "output_type": "execute_result"
    }
   ],
   "source": [
    "#Check to see how much data was in the test set before modeling.\n",
    "x_test_dtm"
   ]
  },
  {
   "cell_type": "markdown",
   "id": "fc49b2a8",
   "metadata": {},
   "source": [
    "#### Tensor Flow"
   ]
  },
  {
   "cell_type": "code",
   "execution_count": 11,
   "id": "118ecd84",
   "metadata": {
    "execution": {
     "iopub.execute_input": "2021-10-02T20:43:23.429017Z",
     "iopub.status.busy": "2021-10-02T20:43:23.427716Z",
     "iopub.status.idle": "2021-10-02T20:43:23.432817Z",
     "shell.execute_reply": "2021-10-02T20:43:23.432219Z",
     "shell.execute_reply.started": "2021-10-02T20:12:15.598204Z"
    },
    "papermill": {
     "duration": 0.035181,
     "end_time": "2021-10-02T20:43:23.432965",
     "exception": false,
     "start_time": "2021-10-02T20:43:23.397784",
     "status": "completed"
    },
    "tags": []
   },
   "outputs": [],
   "source": [
    "#Text data feature extraction. Transform the response_text data using TFIDF vectorizer.\n",
    "text = bot[\"response_text\"]\n",
    "\n",
    "Tf_idf = CountVectorizer(max_features=256).fit_transform(text.values)"
   ]
  },
  {
   "cell_type": "code",
   "execution_count": 12,
   "id": "1288ce8b",
   "metadata": {
    "execution": {
     "iopub.execute_input": "2021-10-02T20:43:23.480729Z",
     "iopub.status.busy": "2021-10-02T20:43:23.480053Z",
     "iopub.status.idle": "2021-10-02T20:43:23.719563Z",
     "shell.execute_reply": "2021-10-02T20:43:23.720493Z",
     "shell.execute_reply.started": "2021-10-02T20:13:44.588598Z"
    },
    "papermill": {
     "duration": 0.265449,
     "end_time": "2021-10-02T20:43:23.720693",
     "exception": false,
     "start_time": "2021-10-02T20:43:23.455244",
     "status": "completed"
    },
    "tags": []
   },
   "outputs": [
    {
     "name": "stdout",
     "output_type": "stream",
     "text": [
      "[t-SNE] Computing 79 nearest neighbors...\n",
      "[t-SNE] Indexed 80 samples in 0.001s...\n",
      "[t-SNE] Computed neighbors for 80 samples in 0.007s...\n",
      "[t-SNE] Computed conditional probabilities for sample 80 / 80\n",
      "[t-SNE] Mean sigma: 2.119037\n",
      "[t-SNE] Computed conditional probabilities in 0.007s\n",
      "[t-SNE] Iteration 50: error = 69.8175888, gradient norm = 0.4227443 (50 iterations in 0.048s)\n",
      "[t-SNE] Iteration 100: error = 71.7578583, gradient norm = 0.3959224 (50 iterations in 0.029s)\n",
      "[t-SNE] Iteration 150: error = 62.0871544, gradient norm = 0.5850121 (50 iterations in 0.022s)\n",
      "[t-SNE] Iteration 200: error = 76.4642715, gradient norm = 0.3401099 (50 iterations in 0.022s)\n",
      "[t-SNE] Iteration 250: error = 74.2192993, gradient norm = 0.3796955 (50 iterations in 0.020s)\n",
      "[t-SNE] KL divergence after 250 iterations with early exaggeration: 74.219299\n",
      "[t-SNE] KL divergence after 251 iterations: 179769313486231570814527423731704356798070567525844996598917476803157260780028538760589558632766878171540458953514382464234321326889464182768467546703537516986049910576551282076245490090389328944075868508455133942304583236903222948165808559332123348274797826204144723168738177180919299881250404026184124858368.000000\n"
     ]
    }
   ],
   "source": [
    "#Using the TSNE dimentionality reduction method, convert similarities between data points.\n",
    "tsne = TSNE(\n",
    "    n_components=2,\n",
    "    init='random', # pca\n",
    "    random_state=34,\n",
    "    method='barnes_hut',\n",
    "    n_iter=250,\n",
    "    verbose=2,\n",
    "    angle=0.5\n",
    ").fit_transform(Tf_idf.toarray())"
   ]
  },
  {
   "cell_type": "code",
   "execution_count": 13,
   "id": "19a1e84f",
   "metadata": {
    "execution": {
     "iopub.execute_input": "2021-10-02T20:43:23.790918Z",
     "iopub.status.busy": "2021-10-02T20:43:23.790175Z",
     "iopub.status.idle": "2021-10-02T20:43:23.796742Z",
     "shell.execute_reply": "2021-10-02T20:43:23.797281Z",
     "shell.execute_reply.started": "2021-10-02T20:24:39.232873Z"
    },
    "papermill": {
     "duration": 0.049176,
     "end_time": "2021-10-02T20:43:23.797484",
     "exception": false,
     "start_time": "2021-10-02T20:43:23.748308",
     "status": "completed"
    },
    "tags": []
   },
   "outputs": [
    {
     "data": {
      "text/html": [
       "<div>\n",
       "<style scoped>\n",
       "    .dataframe tbody tr th:only-of-type {\n",
       "        vertical-align: middle;\n",
       "    }\n",
       "\n",
       "    .dataframe tbody tr th {\n",
       "        vertical-align: top;\n",
       "    }\n",
       "\n",
       "    .dataframe thead th {\n",
       "        text-align: right;\n",
       "    }\n",
       "</style>\n",
       "<table border=\"1\" class=\"dataframe\">\n",
       "  <thead>\n",
       "    <tr style=\"text-align: right;\">\n",
       "      <th></th>\n",
       "      <th>response_id</th>\n",
       "      <th>class</th>\n",
       "      <th>response_text</th>\n",
       "      <th>label</th>\n",
       "    </tr>\n",
       "  </thead>\n",
       "  <tbody>\n",
       "    <tr>\n",
       "      <th>0</th>\n",
       "      <td>response_1</td>\n",
       "      <td>0</td>\n",
       "      <td>I try and avoid this sort of conflict</td>\n",
       "      <td>1</td>\n",
       "    </tr>\n",
       "    <tr>\n",
       "      <th>1</th>\n",
       "      <td>response_2</td>\n",
       "      <td>1</td>\n",
       "      <td>Had a friend open up to me about his mental ad...</td>\n",
       "      <td>0</td>\n",
       "    </tr>\n",
       "    <tr>\n",
       "      <th>2</th>\n",
       "      <td>response_3</td>\n",
       "      <td>1</td>\n",
       "      <td>I saved a girl from suicide once. She was goin...</td>\n",
       "      <td>0</td>\n",
       "    </tr>\n",
       "    <tr>\n",
       "      <th>3</th>\n",
       "      <td>response_4</td>\n",
       "      <td>0</td>\n",
       "      <td>i cant think of one really...i think i may hav...</td>\n",
       "      <td>1</td>\n",
       "    </tr>\n",
       "    <tr>\n",
       "      <th>4</th>\n",
       "      <td>response_5</td>\n",
       "      <td>0</td>\n",
       "      <td>Only really one friend who doesn't fit into th...</td>\n",
       "      <td>1</td>\n",
       "    </tr>\n",
       "  </tbody>\n",
       "</table>\n",
       "</div>"
      ],
      "text/plain": [
       "  response_id  class                                      response_text  label\n",
       "0  response_1      0              I try and avoid this sort of conflict      1\n",
       "1  response_2      1  Had a friend open up to me about his mental ad...      0\n",
       "2  response_3      1  I saved a girl from suicide once. She was goin...      0\n",
       "3  response_4      0  i cant think of one really...i think i may hav...      1\n",
       "4  response_5      0  Only really one friend who doesn't fit into th...      1"
      ]
     },
     "execution_count": 13,
     "metadata": {},
     "output_type": "execute_result"
    }
   ],
   "source": [
    "#Change boolean with binary numbers for the bot data.\n",
    "bot.replace(('flagged','not_flagged'),(1,0),inplace=True)\n",
    "bot.head()"
   ]
  },
  {
   "cell_type": "markdown",
   "id": "72101a52",
   "metadata": {},
   "source": [
    "#### Build Tensor FLow Model"
   ]
  },
  {
   "cell_type": "code",
   "execution_count": 14,
   "id": "c3254bca",
   "metadata": {
    "execution": {
     "iopub.execute_input": "2021-10-02T20:43:23.862503Z",
     "iopub.status.busy": "2021-10-02T20:43:23.861640Z",
     "iopub.status.idle": "2021-10-02T20:43:29.320995Z",
     "shell.execute_reply": "2021-10-02T20:43:29.321570Z",
     "shell.execute_reply.started": "2021-10-02T20:24:47.443370Z"
    },
    "papermill": {
     "duration": 5.494986,
     "end_time": "2021-10-02T20:43:29.321750",
     "exception": false,
     "start_time": "2021-10-02T20:43:23.826764",
     "status": "completed"
    },
    "tags": []
   },
   "outputs": [],
   "source": [
    "#Import supporting libraries.\n",
    "import tensorflow as tf\n",
    "from tensorflow.keras.preprocessing.text import Tokenizer\n",
    "from tensorflow.keras.preprocessing.sequence import pad_sequences\n",
    "\n",
    "sentences=bot['label'].tolist()\n",
    "labels=bot['class'].tolist()"
   ]
  },
  {
   "cell_type": "code",
   "execution_count": 15,
   "id": "29f97ca2",
   "metadata": {
    "execution": {
     "iopub.execute_input": "2021-10-02T20:43:29.373495Z",
     "iopub.status.busy": "2021-10-02T20:43:29.372820Z",
     "iopub.status.idle": "2021-10-02T20:43:29.377262Z",
     "shell.execute_reply": "2021-10-02T20:43:29.377745Z",
     "shell.execute_reply.started": "2021-10-02T20:24:51.419178Z"
    },
    "papermill": {
     "duration": 0.032088,
     "end_time": "2021-10-02T20:43:29.377905",
     "exception": false,
     "start_time": "2021-10-02T20:43:29.345817",
     "status": "completed"
    },
    "tags": []
   },
   "outputs": [],
   "source": [
    "training_size = int(len(sentences) * 0.8)\n",
    "\n",
    "training_sentences = sentences[0:training_size]\n",
    "testing_sentences = sentences[training_size:]\n",
    "training_labels = labels[0:training_size]\n",
    "testing_labels = labels[training_size:]\n",
    "\n",
    "# Make labels into numpy arrays for use with the network later\n",
    "training_labels_final = np.array(training_labels)\n",
    "testing_labels_final = np.array(testing_labels)"
   ]
  },
  {
   "cell_type": "code",
   "execution_count": 16,
   "id": "8f0fa50d",
   "metadata": {
    "execution": {
     "iopub.execute_input": "2021-10-02T20:43:29.438636Z",
     "iopub.status.busy": "2021-10-02T20:43:29.437943Z",
     "iopub.status.idle": "2021-10-02T20:43:29.565074Z",
     "shell.execute_reply": "2021-10-02T20:43:29.564351Z",
     "shell.execute_reply.started": "2021-10-02T20:24:54.946926Z"
    },
    "papermill": {
     "duration": 0.163664,
     "end_time": "2021-10-02T20:43:29.565275",
     "exception": false,
     "start_time": "2021-10-02T20:43:29.401611",
     "status": "completed"
    },
    "tags": []
   },
   "outputs": [
    {
     "name": "stdout",
     "output_type": "stream",
     "text": [
      "Model: \"sequential\"\n",
      "_________________________________________________________________\n",
      " Layer (type)                Output Shape              Param #   \n",
      "=================================================================\n",
      " embedding (Embedding)       (None, 25, 16)            4800      \n",
      "                                                                 \n",
      " global_average_pooling1d (G  (None, 16)               0         \n",
      " lobalAveragePooling1D)                                          \n",
      "                                                                 \n",
      " dense (Dense)               (None, 6)                 102       \n",
      "                                                                 \n",
      " dense_1 (Dense)             (None, 1)                 7         \n",
      "                                                                 \n",
      "=================================================================\n",
      "Total params: 4,909\n",
      "Trainable params: 4,909\n",
      "Non-trainable params: 0\n",
      "_________________________________________________________________\n"
     ]
    }
   ],
   "source": [
    "vocab_size = 300\n",
    "embedding_dim = 16\n",
    "max_length = 25\n",
    "trunc_type='post'\n",
    "padding_type='post'\n",
    "oov_tok = \"<OOV>\"\n",
    "training_sentences = [str (item) for item in training_sentences]\n",
    "testing_sentences = [str (item) for item in testing_sentences]\n",
    "\n",
    "tokenizer = Tokenizer(num_words = vocab_size, oov_token=oov_tok)\n",
    "tokenizer.fit_on_texts(training_sentences)\n",
    "word_index = tokenizer.word_index\n",
    "training_sequences = tokenizer.texts_to_sequences(training_sentences)\n",
    "training_padded = pad_sequences(training_sequences, maxlen=max_length, padding=padding_type, truncating=trunc_type)\n",
    "\n",
    "testing_sequences = tokenizer.texts_to_sequences(testing_sentences)\n",
    "testing_padded = pad_sequences(testing_sequences, maxlen=max_length, padding=padding_type, truncating=trunc_type)\n",
    "\n",
    "model = tf.keras.Sequential([\n",
    "    tf.keras.layers.Embedding(vocab_size, embedding_dim, input_length=max_length),\n",
    "    tf.keras.layers.GlobalAveragePooling1D(),\n",
    "    tf.keras.layers.Dense(6, activation='relu'),\n",
    "    tf.keras.layers.Dense(1, activation='sigmoid')\n",
    "])\n",
    "model.compile(loss='binary_crossentropy',optimizer='adam',metrics=['accuracy'])\n",
    "model.summary()"
   ]
  },
  {
   "cell_type": "code",
   "execution_count": 17,
   "id": "5495a3d9",
   "metadata": {
    "execution": {
     "iopub.execute_input": "2021-10-02T20:43:29.620361Z",
     "iopub.status.busy": "2021-10-02T20:43:29.619566Z",
     "iopub.status.idle": "2021-10-02T20:43:32.930893Z",
     "shell.execute_reply": "2021-10-02T20:43:32.930335Z",
     "shell.execute_reply.started": "2021-10-02T20:24:59.499993Z"
    },
    "papermill": {
     "duration": 3.340708,
     "end_time": "2021-10-02T20:43:32.931046",
     "exception": false,
     "start_time": "2021-10-02T20:43:29.590338",
     "status": "completed"
    },
    "tags": []
   },
   "outputs": [
    {
     "name": "stdout",
     "output_type": "stream",
     "text": [
      "Epoch 1/30\n",
      "2/2 [==============================] - 1s 186ms/step - loss: 0.6969 - accuracy: 0.3125 - val_loss: 0.6957 - val_accuracy: 0.3125\n",
      "Epoch 2/30\n",
      "2/2 [==============================] - 0s 19ms/step - loss: 0.6954 - accuracy: 0.3125 - val_loss: 0.6944 - val_accuracy: 0.3125\n",
      "Epoch 3/30\n",
      "2/2 [==============================] - 0s 19ms/step - loss: 0.6941 - accuracy: 0.3125 - val_loss: 0.6932 - val_accuracy: 0.3125\n",
      "Epoch 4/30\n",
      "2/2 [==============================] - 0s 18ms/step - loss: 0.6929 - accuracy: 0.6562 - val_loss: 0.6920 - val_accuracy: 0.6875\n",
      "Epoch 5/30\n",
      "2/2 [==============================] - 0s 20ms/step - loss: 0.6917 - accuracy: 0.6875 - val_loss: 0.6908 - val_accuracy: 0.6875\n",
      "Epoch 6/30\n",
      "2/2 [==============================] - 0s 21ms/step - loss: 0.6904 - accuracy: 0.6875 - val_loss: 0.6896 - val_accuracy: 0.6875\n",
      "Epoch 7/30\n",
      "2/2 [==============================] - 0s 18ms/step - loss: 0.6896 - accuracy: 0.6875 - val_loss: 0.6893 - val_accuracy: 0.6875\n",
      "Epoch 8/30\n",
      "2/2 [==============================] - 0s 18ms/step - loss: 0.6892 - accuracy: 0.6875 - val_loss: 0.6888 - val_accuracy: 0.6875\n",
      "Epoch 9/30\n",
      "2/2 [==============================] - 0s 17ms/step - loss: 0.6887 - accuracy: 0.6875 - val_loss: 0.6883 - val_accuracy: 0.6875\n",
      "Epoch 10/30\n",
      "2/2 [==============================] - 0s 18ms/step - loss: 0.6882 - accuracy: 0.6875 - val_loss: 0.6878 - val_accuracy: 0.6875\n",
      "Epoch 11/30\n",
      "2/2 [==============================] - 0s 17ms/step - loss: 0.6877 - accuracy: 0.6875 - val_loss: 0.6872 - val_accuracy: 0.6875\n",
      "Epoch 12/30\n",
      "2/2 [==============================] - 0s 19ms/step - loss: 0.6871 - accuracy: 0.6875 - val_loss: 0.6867 - val_accuracy: 0.6875\n",
      "Epoch 13/30\n",
      "2/2 [==============================] - 0s 20ms/step - loss: 0.6865 - accuracy: 0.6875 - val_loss: 0.6861 - val_accuracy: 0.6875\n",
      "Epoch 14/30\n",
      "2/2 [==============================] - 0s 22ms/step - loss: 0.6860 - accuracy: 0.6875 - val_loss: 0.6856 - val_accuracy: 0.6875\n",
      "Epoch 15/30\n",
      "2/2 [==============================] - 0s 23ms/step - loss: 0.6854 - accuracy: 0.6875 - val_loss: 0.6850 - val_accuracy: 0.6875\n",
      "Epoch 16/30\n",
      "2/2 [==============================] - 0s 19ms/step - loss: 0.6848 - accuracy: 0.6875 - val_loss: 0.6844 - val_accuracy: 0.6875\n",
      "Epoch 17/30\n",
      "2/2 [==============================] - 0s 21ms/step - loss: 0.6842 - accuracy: 0.6875 - val_loss: 0.6837 - val_accuracy: 0.6875\n",
      "Epoch 18/30\n",
      "2/2 [==============================] - 0s 21ms/step - loss: 0.6835 - accuracy: 0.6875 - val_loss: 0.6831 - val_accuracy: 0.6875\n",
      "Epoch 19/30\n",
      "2/2 [==============================] - 0s 17ms/step - loss: 0.6830 - accuracy: 0.6875 - val_loss: 0.6825 - val_accuracy: 0.6875\n",
      "Epoch 20/30\n",
      "2/2 [==============================] - 0s 17ms/step - loss: 0.6822 - accuracy: 0.6875 - val_loss: 0.6818 - val_accuracy: 0.6875\n",
      "Epoch 21/30\n",
      "2/2 [==============================] - 0s 19ms/step - loss: 0.6817 - accuracy: 0.6875 - val_loss: 0.6812 - val_accuracy: 0.6875\n",
      "Epoch 22/30\n",
      "2/2 [==============================] - 0s 18ms/step - loss: 0.6810 - accuracy: 0.6875 - val_loss: 0.6805 - val_accuracy: 0.6875\n",
      "Epoch 23/30\n",
      "2/2 [==============================] - 0s 19ms/step - loss: 0.6804 - accuracy: 0.6875 - val_loss: 0.6798 - val_accuracy: 0.6875\n",
      "Epoch 24/30\n",
      "2/2 [==============================] - 0s 19ms/step - loss: 0.6797 - accuracy: 0.6875 - val_loss: 0.6791 - val_accuracy: 0.6875\n",
      "Epoch 25/30\n",
      "2/2 [==============================] - 0s 19ms/step - loss: 0.6790 - accuracy: 0.6875 - val_loss: 0.6784 - val_accuracy: 0.6875\n",
      "Epoch 26/30\n",
      "2/2 [==============================] - 0s 20ms/step - loss: 0.6782 - accuracy: 0.6875 - val_loss: 0.6777 - val_accuracy: 0.6875\n",
      "Epoch 27/30\n",
      "2/2 [==============================] - 0s 20ms/step - loss: 0.6776 - accuracy: 0.6875 - val_loss: 0.6770 - val_accuracy: 0.6875\n",
      "Epoch 28/30\n",
      "2/2 [==============================] - 0s 19ms/step - loss: 0.6769 - accuracy: 0.6875 - val_loss: 0.6764 - val_accuracy: 0.6875\n",
      "Epoch 29/30\n",
      "2/2 [==============================] - 0s 19ms/step - loss: 0.6761 - accuracy: 0.6875 - val_loss: 0.6756 - val_accuracy: 0.6875\n",
      "Epoch 30/30\n",
      "2/2 [==============================] - 0s 18ms/step - loss: 0.6753 - accuracy: 0.6875 - val_loss: 0.6750 - val_accuracy: 0.6875\n"
     ]
    }
   ],
   "source": [
    "#Now build the model with thirty iterations.\n",
    "num_epochs = 30\n",
    "history = model.fit(training_padded, training_labels_final, epochs=num_epochs, validation_data=(testing_padded, testing_labels_final))"
   ]
  },
  {
   "cell_type": "markdown",
   "id": "a36fc3cb",
   "metadata": {},
   "source": [
    "##### Findings: \n",
    "\n",
    "The Random Forest rgeressor appears to have fared better than all of the Tensor Flow epoch. We increased by approximately ten percent with RandomForest."
   ]
  },
  {
   "cell_type": "markdown",
   "id": "3b1e55e0",
   "metadata": {},
   "source": [
    "-----------------------------------------------------------------------------------------------------------------------"
   ]
  },
  {
   "cell_type": "markdown",
   "id": "2f941496",
   "metadata": {},
   "source": [
    "### Perform Similar Analysis for the Resume data: Sheet2.csv"
   ]
  },
  {
   "cell_type": "code",
   "execution_count": 18,
   "id": "6fdcd570",
   "metadata": {},
   "outputs": [
    {
     "data": {
      "image/png": "[encoded data removed]",
      "text/plain": [
       "<Figure size 432x288 with 1 Axes>"
      ]
     },
     "metadata": {
      "needs_background": "light"
     },
     "output_type": "display_data"
    }
   ],
   "source": [
    "def cloud(text):\n",
    "    wordcloud = WordCloud(background_color=\"red\",stopwords=stop).generate(\" \".join([i for i in text.str.upper()]))\n",
    "    plt.imshow(wordcloud)\n",
    "    plt.axis(\"off\")\n",
    "    plt.title(\"Resume Response\")\n",
    "cloud(resume['resume_text'])"
   ]
  },
  {
   "cell_type": "markdown",
   "id": "d7a8fe76",
   "metadata": {},
   "source": [
    "### Model Building"
   ]
  },
  {
   "cell_type": "code",
   "execution_count": 19,
   "id": "43dbcf7b",
   "metadata": {},
   "outputs": [],
   "source": [
    "#Encode and transform the class or target column.\n",
    "resume['label'] = Encode.fit_transform(resume['class'])"
   ]
  },
  {
   "cell_type": "code",
   "execution_count": 20,
   "id": "ebe538de",
   "metadata": {},
   "outputs": [],
   "source": [
    "#Train-test-split the resume data set and get model accuracy.\n",
    "x = resume.resume_text\n",
    "y = resume.label\n",
    "x_train,x_test,y_train,y_test = train_test_split(x,y,random_state=34)\n",
    "x_train_dtm = vect.fit_transform(x_train)\n",
    "x_test_dtm = vect.transform(x_test)"
   ]
  },
  {
   "cell_type": "markdown",
   "id": "5491b2ca",
   "metadata": {},
   "source": [
    "### Random Forest"
   ]
  },
  {
   "cell_type": "code",
   "execution_count": 21,
   "id": "2965c6e4",
   "metadata": {},
   "outputs": [
    {
     "data": {
      "text/plain": [
       "0.6875"
      ]
     },
     "execution_count": 21,
     "metadata": {},
     "output_type": "execute_result"
    }
   ],
   "source": [
    "#Random Forest regressor.\n",
    "rf = RandomForestClassifier(max_depth=10,max_features=10)\n",
    "rf.fit(x_train_dtm,y_train)\n",
    "rf_predict = rf.predict(x_test_dtm)\n",
    "metrics.accuracy_score(y_test,rf_predict)\n",
    "#Naive Bayes.\n",
    "NB.fit(x_train_dtm,y_train)\n",
    "y_predict = NB.predict(x_test_dtm)\n",
    "metrics.accuracy_score(y_test,y_predict)"
   ]
  },
  {
   "cell_type": "markdown",
   "id": "f9834677",
   "metadata": {},
   "source": [
    "### Tensor Flow"
   ]
  },
  {
   "cell_type": "code",
   "execution_count": 22,
   "id": "3c932575",
   "metadata": {},
   "outputs": [],
   "source": [
    "#Text data feature extraction. Transform the response_text data using TFIDF vectorizer.\n",
    "text = resume[\"resume_text\"]\n",
    "\n",
    "Tf_idf = CountVectorizer(max_features=256).fit_transform(text.values)\n"
   ]
  },
  {
   "cell_type": "code",
   "execution_count": 23,
   "id": "bb6ecb29",
   "metadata": {},
   "outputs": [],
   "source": [
    "training_size = int(len(sentences) * 0.8)\n",
    "\n",
    "training_sentences = sentences[0:training_size]\n",
    "testing_sentences = sentences[training_size:]\n",
    "training_labels = labels[0:training_size]\n",
    "testing_labels = labels[training_size:]\n",
    "\n",
    "# Make labels into numpy arrays for use with the network later\n",
    "training_labels_final = np.array(training_labels)\n",
    "testing_labels_final = np.array(testing_labels)"
   ]
  },
  {
   "cell_type": "code",
   "execution_count": 24,
   "id": "5829f7f3",
   "metadata": {},
   "outputs": [
    {
     "name": "stdout",
     "output_type": "stream",
     "text": [
      "Model: \"sequential_1\"\n",
      "_________________________________________________________________\n",
      " Layer (type)                Output Shape              Param #   \n",
      "=================================================================\n",
      " embedding_1 (Embedding)     (None, 25, 16)            4800      \n",
      "                                                                 \n",
      " global_average_pooling1d_1   (None, 16)               0         \n",
      " (GlobalAveragePooling1D)                                        \n",
      "                                                                 \n",
      " dense_2 (Dense)             (None, 6)                 102       \n",
      "                                                                 \n",
      " dense_3 (Dense)             (None, 1)                 7         \n",
      "                                                                 \n",
      "=================================================================\n",
      "Total params: 4,909\n",
      "Trainable params: 4,909\n",
      "Non-trainable params: 0\n",
      "_________________________________________________________________\n"
     ]
    }
   ],
   "source": [
    "vocab_size = 300\n",
    "embedding_dim = 16\n",
    "max_length = 25\n",
    "trunc_type='post'\n",
    "padding_type='post'\n",
    "oov_tok = \"<OOV>\"\n",
    "training_sentences = [str (item) for item in training_sentences]\n",
    "testing_sentences = [str (item) for item in testing_sentences]\n",
    "\n",
    "tokenizer = Tokenizer(num_words = vocab_size, oov_token=oov_tok)\n",
    "tokenizer.fit_on_texts(training_sentences)\n",
    "word_index = tokenizer.word_index\n",
    "training_sequences = tokenizer.texts_to_sequences(training_sentences)\n",
    "training_padded = pad_sequences(training_sequences, maxlen=max_length, padding=padding_type, truncating=trunc_type)\n",
    "\n",
    "testing_sequences = tokenizer.texts_to_sequences(testing_sentences)\n",
    "testing_padded = pad_sequences(testing_sequences, maxlen=max_length, padding=padding_type, truncating=trunc_type)\n",
    "\n",
    "model = tf.keras.Sequential([\n",
    "    tf.keras.layers.Embedding(vocab_size, embedding_dim, input_length=max_length),\n",
    "    tf.keras.layers.GlobalAveragePooling1D(),\n",
    "    tf.keras.layers.Dense(6, activation='relu'),\n",
    "    tf.keras.layers.Dense(1, activation='sigmoid')\n",
    "])\n",
    "model.compile(loss='binary_crossentropy',optimizer='adam',metrics=['accuracy'])\n",
    "model.summary()"
   ]
  },
  {
   "cell_type": "code",
   "execution_count": 25,
   "id": "ca7f6fe8",
   "metadata": {},
   "outputs": [
    {
     "name": "stdout",
     "output_type": "stream",
     "text": [
      "Epoch 1/30\n",
      "2/2 [==============================] - 0s 114ms/step - loss: 0.6968 - accuracy: 0.3125 - val_loss: 0.6955 - val_accuracy: 0.3125\n",
      "Epoch 2/30\n",
      "2/2 [==============================] - 0s 19ms/step - loss: 0.6952 - accuracy: 0.3125 - val_loss: 0.6939 - val_accuracy: 0.3125\n",
      "Epoch 3/30\n",
      "2/2 [==============================] - 0s 18ms/step - loss: 0.6932 - accuracy: 0.3125 - val_loss: 0.6919 - val_accuracy: 0.6875\n",
      "Epoch 4/30\n",
      "2/2 [==============================] - 0s 20ms/step - loss: 0.6916 - accuracy: 0.6875 - val_loss: 0.6905 - val_accuracy: 0.6875\n",
      "Epoch 5/30\n",
      "2/2 [==============================] - 0s 20ms/step - loss: 0.6901 - accuracy: 0.6875 - val_loss: 0.6890 - val_accuracy: 0.6875\n",
      "Epoch 6/30\n",
      "2/2 [==============================] - 0s 18ms/step - loss: 0.6885 - accuracy: 0.6875 - val_loss: 0.6876 - val_accuracy: 0.6875\n",
      "Epoch 7/30\n",
      "2/2 [==============================] - 0s 19ms/step - loss: 0.6872 - accuracy: 0.6875 - val_loss: 0.6860 - val_accuracy: 0.6875\n",
      "Epoch 8/30\n",
      "2/2 [==============================] - 0s 19ms/step - loss: 0.6854 - accuracy: 0.6875 - val_loss: 0.6845 - val_accuracy: 0.6875\n",
      "Epoch 9/30\n",
      "2/2 [==============================] - 0s 20ms/step - loss: 0.6842 - accuracy: 0.6875 - val_loss: 0.6830 - val_accuracy: 0.6875\n",
      "Epoch 10/30\n",
      "2/2 [==============================] - 0s 19ms/step - loss: 0.6826 - accuracy: 0.6875 - val_loss: 0.6814 - val_accuracy: 0.6875\n",
      "Epoch 11/30\n",
      "2/2 [==============================] - 0s 21ms/step - loss: 0.6810 - accuracy: 0.6875 - val_loss: 0.6799 - val_accuracy: 0.6875\n",
      "Epoch 12/30\n",
      "2/2 [==============================] - 0s 17ms/step - loss: 0.6794 - accuracy: 0.6875 - val_loss: 0.6783 - val_accuracy: 0.6875\n",
      "Epoch 13/30\n",
      "2/2 [==============================] - 0s 19ms/step - loss: 0.6780 - accuracy: 0.6875 - val_loss: 0.6768 - val_accuracy: 0.6875\n",
      "Epoch 14/30\n",
      "2/2 [==============================] - 0s 24ms/step - loss: 0.6764 - accuracy: 0.6875 - val_loss: 0.6752 - val_accuracy: 0.6875\n",
      "Epoch 15/30\n",
      "2/2 [==============================] - 0s 18ms/step - loss: 0.6749 - accuracy: 0.6875 - val_loss: 0.6736 - val_accuracy: 0.6875\n",
      "Epoch 16/30\n",
      "2/2 [==============================] - 0s 20ms/step - loss: 0.6734 - accuracy: 0.6875 - val_loss: 0.6721 - val_accuracy: 0.6875\n",
      "Epoch 17/30\n",
      "2/2 [==============================] - 0s 19ms/step - loss: 0.6717 - accuracy: 0.6875 - val_loss: 0.6705 - val_accuracy: 0.6875\n",
      "Epoch 18/30\n",
      "2/2 [==============================] - 0s 17ms/step - loss: 0.6702 - accuracy: 0.6875 - val_loss: 0.6689 - val_accuracy: 0.6875\n",
      "Epoch 19/30\n",
      "2/2 [==============================] - 0s 18ms/step - loss: 0.6684 - accuracy: 0.6875 - val_loss: 0.6674 - val_accuracy: 0.6875\n",
      "Epoch 20/30\n",
      "2/2 [==============================] - 0s 21ms/step - loss: 0.6670 - accuracy: 0.6875 - val_loss: 0.6659 - val_accuracy: 0.6875\n",
      "Epoch 21/30\n",
      "2/2 [==============================] - 0s 20ms/step - loss: 0.6654 - accuracy: 0.6875 - val_loss: 0.6644 - val_accuracy: 0.6875\n",
      "Epoch 22/30\n",
      "2/2 [==============================] - 0s 21ms/step - loss: 0.6640 - accuracy: 0.6875 - val_loss: 0.6628 - val_accuracy: 0.6875\n",
      "Epoch 23/30\n",
      "2/2 [==============================] - 0s 23ms/step - loss: 0.6625 - accuracy: 0.6875 - val_loss: 0.6612 - val_accuracy: 0.6875\n",
      "Epoch 24/30\n",
      "2/2 [==============================] - 0s 23ms/step - loss: 0.6608 - accuracy: 0.6875 - val_loss: 0.6597 - val_accuracy: 0.6875\n",
      "Epoch 25/30\n",
      "2/2 [==============================] - 0s 22ms/step - loss: 0.6593 - accuracy: 0.6875 - val_loss: 0.6581 - val_accuracy: 0.6875\n",
      "Epoch 26/30\n",
      "2/2 [==============================] - 0s 19ms/step - loss: 0.6576 - accuracy: 0.6875 - val_loss: 0.6566 - val_accuracy: 0.6875\n",
      "Epoch 27/30\n",
      "2/2 [==============================] - 0s 18ms/step - loss: 0.6560 - accuracy: 0.6875 - val_loss: 0.6550 - val_accuracy: 0.6875\n",
      "Epoch 28/30\n",
      "2/2 [==============================] - 0s 20ms/step - loss: 0.6549 - accuracy: 0.6875 - val_loss: 0.6534 - val_accuracy: 0.6875\n",
      "Epoch 29/30\n",
      "2/2 [==============================] - 0s 19ms/step - loss: 0.6531 - accuracy: 0.6875 - val_loss: 0.6519 - val_accuracy: 0.6875\n",
      "Epoch 30/30\n",
      "2/2 [==============================] - 0s 19ms/step - loss: 0.6519 - accuracy: 0.6875 - val_loss: 0.6503 - val_accuracy: 0.6875\n"
     ]
    }
   ],
   "source": [
    "#Now build the model with thirty iterations.\n",
    "num_epochs = 30\n",
    "history = model.fit(training_padded, training_labels_final, epochs=num_epochs, validation_data=(testing_padded, testing_labels_final))"
   ]
  },
  {
   "cell_type": "markdown",
   "id": "3ef13f83",
   "metadata": {},
   "source": [
    "### Conclusion"
   ]
  },
  {
   "cell_type": "markdown",
   "id": "d44e9dd3",
   "metadata": {},
   "source": [
    "Seeing that the accuracy scores of both models are comparable, it is essential to enhance their performance to ensure the algorithms consistently and accurately classify the target column. Improving the models' accuracy can be achieved through hyperparameter tuning, feature engineering, or exploring advanced architectures. This use case demonstrates the potential of machine learning in mining and analyzing text data, making it a valuable tool for organizations dealing with large volumes of textual information. Companies focused on automating decision-making processes or extracting insights from text will find this approach highly beneficial."
   ]
  }
 ],
 "metadata": {
  "kernelspec": {
   "display_name": "Python 3",
   "language": "python",
   "name": "python3"
  },
  "language_info": {
   "codemirror_mode": {
    "name": "ipython",
    "version": 3
   },
   "file_extension": ".py",
   "mimetype": "text/x-python",
   "name": "python",
   "nbconvert_exporter": "python",
   "pygments_lexer": "ipython3",
   "version": "3.8.8"
  },
  "papermill": {
   "default_parameters": {},
   "duration": 24.840869,
   "end_time": "2021-10-02T20:43:36.077048",
   "environment_variables": {},
   "exception": null,
   "input_path": "__notebook__.ipynb",
   "output_path": "__notebook__.ipynb",
   "parameters": {},
   "start_time": "2021-10-02T20:43:11.236179",
   "version": "2.3.3"
  }
 },
 "nbformat": 4,
 "nbformat_minor": 5
}
